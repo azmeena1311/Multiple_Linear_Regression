{
 "cells": [
  {
   "cell_type": "code",
   "execution_count": 1,
   "metadata": {},
   "outputs": [
    {
     "name": "stderr",
     "output_type": "stream",
     "text": [
      "C:\\Users\\admin\\AppData\\Local\\Continuum\\anaconda3\\lib\\importlib\\_bootstrap.py:219: RuntimeWarning: numpy.ufunc size changed, may indicate binary incompatibility. Expected 192 from C header, got 216 from PyObject\n",
      "  return f(*args, **kwds)\n",
      "C:\\Users\\admin\\AppData\\Local\\Continuum\\anaconda3\\lib\\importlib\\_bootstrap.py:219: RuntimeWarning: numpy.ufunc size changed, may indicate binary incompatibility. Expected 192 from C header, got 216 from PyObject\n",
      "  return f(*args, **kwds)\n"
     ]
    }
   ],
   "source": [
    "import pandas as pd\n",
    "import numpy as np\n",
    "from sklearn.linear_model import LinearRegression\n"
   ]
  },
  {
   "cell_type": "code",
   "execution_count": 2,
   "metadata": {},
   "outputs": [
    {
     "data": {
      "text/html": [
       "<div>\n",
       "<style scoped>\n",
       "    .dataframe tbody tr th:only-of-type {\n",
       "        vertical-align: middle;\n",
       "    }\n",
       "\n",
       "    .dataframe tbody tr th {\n",
       "        vertical-align: top;\n",
       "    }\n",
       "\n",
       "    .dataframe thead th {\n",
       "        text-align: right;\n",
       "    }\n",
       "</style>\n",
       "<table border=\"1\" class=\"dataframe\">\n",
       "  <thead>\n",
       "    <tr style=\"text-align: right;\">\n",
       "      <th></th>\n",
       "      <th>Miscellaneous_Expenses</th>\n",
       "      <th>Food_Innovation_Spend</th>\n",
       "      <th>Advertising</th>\n",
       "      <th>City</th>\n",
       "      <th>Profit</th>\n",
       "    </tr>\n",
       "  </thead>\n",
       "  <tbody>\n",
       "    <tr>\n",
       "      <th>0</th>\n",
       "      <td>138671.80</td>\n",
       "      <td>167497.20</td>\n",
       "      <td>475918.10</td>\n",
       "      <td>Chicago</td>\n",
       "      <td>202443.83</td>\n",
       "    </tr>\n",
       "    <tr>\n",
       "      <th>1</th>\n",
       "      <td>153151.59</td>\n",
       "      <td>164745.70</td>\n",
       "      <td>448032.53</td>\n",
       "      <td>Mumbai</td>\n",
       "      <td>201974.06</td>\n",
       "    </tr>\n",
       "    <tr>\n",
       "      <th>2</th>\n",
       "      <td>102919.55</td>\n",
       "      <td>155589.51</td>\n",
       "      <td>412068.54</td>\n",
       "      <td>Tokyo</td>\n",
       "      <td>201232.39</td>\n",
       "    </tr>\n",
       "    <tr>\n",
       "      <th>3</th>\n",
       "      <td>120445.85</td>\n",
       "      <td>146520.41</td>\n",
       "      <td>387333.62</td>\n",
       "      <td>Chicago</td>\n",
       "      <td>193083.99</td>\n",
       "    </tr>\n",
       "    <tr>\n",
       "      <th>4</th>\n",
       "      <td>93165.77</td>\n",
       "      <td>144255.34</td>\n",
       "      <td>370302.42</td>\n",
       "      <td>Tokyo</td>\n",
       "      <td>176369.94</td>\n",
       "    </tr>\n",
       "  </tbody>\n",
       "</table>\n",
       "</div>"
      ],
      "text/plain": [
       "   Miscellaneous_Expenses  Food_Innovation_Spend  Advertising     City  \\\n",
       "0               138671.80              167497.20    475918.10  Chicago   \n",
       "1               153151.59              164745.70    448032.53   Mumbai   \n",
       "2               102919.55              155589.51    412068.54    Tokyo   \n",
       "3               120445.85              146520.41    387333.62  Chicago   \n",
       "4                93165.77              144255.34    370302.42    Tokyo   \n",
       "\n",
       "      Profit  \n",
       "0  202443.83  \n",
       "1  201974.06  \n",
       "2  201232.39  \n",
       "3  193083.99  \n",
       "4  176369.94  "
      ]
     },
     "execution_count": 2,
     "metadata": {},
     "output_type": "execute_result"
    }
   ],
   "source": [
    "Data = pd.read_csv(\"Data_multiple_linear_regression.csv\")\n",
    "Data.head()"
   ]
  },
  {
   "cell_type": "code",
   "execution_count": 17,
   "metadata": {},
   "outputs": [
    {
     "data": {
      "text/plain": [
       "array([[138671.8, 167497.2, 475918.1, 'Chicago'],\n",
       "       [153151.59, 164745.7, 448032.53, 'Mumbai'],\n",
       "       [102919.55, 155589.51, 412068.54, 'Tokyo'],\n",
       "       [120445.85, 146520.41, 387333.62, 'Chicago'],\n",
       "       [93165.77, 144255.34, 370302.42, 'Tokyo'],\n",
       "       [101588.71, 134024.9, 366995.36, 'Chicago'],\n",
       "       [148972.87, 136763.46, 131850.82, 'Mumbai'],\n",
       "       [147304.06, 132446.13, 328010.68, 'Tokyo'],\n",
       "       [150492.95, 122690.52, 315747.29, 'Chicago'],\n",
       "       [110453.17, 125482.88, 309115.62, 'Mumbai'],\n",
       "       [112368.11, 104061.08, 233294.95, 'Tokyo'],\n",
       "       [93564.61, 102819.96, 253878.55, 'Mumbai'],\n",
       "       [129094.38, 96011.75, 253973.44, 'Tokyo'],\n",
       "       [137269.07, 94140.39, 256798.93, 'Mumbai'],\n",
       "       [158321.42, 122091.24, 260646.92, 'Tokyo'],\n",
       "       [124390.84, 116671.61, 265910.23, 'Chicago'],\n",
       "       [123371.55, 80161.11, 268480.06, 'Mumbai'],\n",
       "       [146851.58, 96805.16, 286708.31, 'Chicago'],\n",
       "       [115949.79, 93897.16, 299053.57, 'Tokyo'],\n",
       "       [155288.11, 88567.7, 4134.0, 'Chicago'],\n",
       "       [115641.3, 78401.86, 302798.47, 'Mumbai'],\n",
       "       [155547.43, 80537.47, 303871.29, 'Chicago'],\n",
       "       [124556.75, 76142.56, 307453.26, 'Tokyo'],\n",
       "       [107525.03, 69680.53, 308902.73, 'Tokyo'],\n",
       "       [101055.34, 79192.01, 144708.81, 'Chicago'],\n",
       "       [141327.16, 66812.71, 142096.62, 'Mumbai'],\n",
       "       [145909.98, 77476.87, 138184.07, 'Tokyo'],\n",
       "       [129638.55, 74255.6, 357317.81, 'Chicago'],\n",
       "       [184419.56, 68199.52, 122282.2, 'Tokyo'],\n",
       "       [154806.06, 67753.48, 111272.38, 'Chicago'],\n",
       "       [117415.28, 64142.48, 95265.24, 'Tokyo'],\n",
       "       [154475.92, 63284.38, 92352.23, 'Chicago'],\n",
       "       [130993.61, 65556.86, 50219.25, 'Mumbai'],\n",
       "       [104831.49, 57641.95, 218768.81, 'Tokyo'],\n",
       "       [159467.92, 48574.07, 214931.67, 'Mumbai'],\n",
       "       [86821.44, 48162.02, 209651.64, 'Chicago'],\n",
       "       [128830.21, 30811.76, 205260.82, 'Tokyo'],\n",
       "       [53057.14, 46217.95, 201163.42, 'Mumbai'],\n",
       "       [67721.93, 22377.59, 189399.1, 'Chicago'],\n",
       "       [84756.09, 40706.51, 179133.3, 'Mumbai'],\n",
       "       [120320.05, 30902.33, 176929.67, 'Mumbai'],\n",
       "       [86484.77, 30040.92, 168604.71, 'Tokyo'],\n",
       "       [97963.63, 25788.93, 152135.11, 'Mumbai'],\n",
       "       [129156.3, 17653.73, 39668.17, 'Chicago'],\n",
       "       [156580.14, 24325.74, 32468.72, 'Mumbai'],\n",
       "       [125927.04, 3148.23, 6037.93, 'Chicago'],\n",
       "       [117590.21, 3463.46, 301248.46, 'Tokyo'],\n",
       "       [137200.92, 2148.0, 4134.0, 'Mumbai'],\n",
       "       [53517.15, 2690.05, 4134.0, 'Chicago'],\n",
       "       [118757.8, 2148.0, 49307.06, 'Mumbai']], dtype=object)"
      ]
     },
     "execution_count": 17,
     "metadata": {},
     "output_type": "execute_result"
    }
   ],
   "source": [
    "X = Data.iloc[:,:-1].values\n",
    "X"
   ]
  },
  {
   "cell_type": "code",
   "execution_count": 18,
   "metadata": {},
   "outputs": [
    {
     "data": {
      "text/plain": [
       "array([202443.83, 201974.06, 201232.39, 193083.99, 176369.94, 167173.12,\n",
       "       166304.51, 165934.6 , 162393.77, 159941.96, 156303.95, 154441.4 ,\n",
       "       151767.52, 144489.35, 142784.65, 140099.04, 137174.93, 135552.37,\n",
       "       134448.9 , 132958.86, 128656.03, 121495.02, 120534.25, 118915.99,\n",
       "       118734.04, 117586.34, 115915.54, 115190.31, 113464.38, 111186.64,\n",
       "       110119.59, 107665.56, 107609.84, 106960.92, 106894.8 , 106661.51,\n",
       "       100890.19, 100131.14,  91411.06,  91187.76,  88421.91,  87980.83,\n",
       "        81680.49,  79940.98,  75382.33,  75108.08,  59672.75,  52741.73,\n",
       "        45855.41,  24863.4 ])"
      ]
     },
     "execution_count": 18,
     "metadata": {},
     "output_type": "execute_result"
    }
   ],
   "source": [
    "Y = Data.iloc[:,4].values\n",
    "Y"
   ]
  },
  {
   "cell_type": "code",
   "execution_count": 8,
   "metadata": {},
   "outputs": [
    {
     "data": {
      "text/html": [
       "<div>\n",
       "<style scoped>\n",
       "    .dataframe tbody tr th:only-of-type {\n",
       "        vertical-align: middle;\n",
       "    }\n",
       "\n",
       "    .dataframe tbody tr th {\n",
       "        vertical-align: top;\n",
       "    }\n",
       "\n",
       "    .dataframe thead th {\n",
       "        text-align: right;\n",
       "    }\n",
       "</style>\n",
       "<table border=\"1\" class=\"dataframe\">\n",
       "  <thead>\n",
       "    <tr style=\"text-align: right;\">\n",
       "      <th></th>\n",
       "      <th>Miscellaneous_Expenses</th>\n",
       "      <th>Food_Innovation_Spend</th>\n",
       "      <th>Advertising</th>\n",
       "      <th>Profit</th>\n",
       "    </tr>\n",
       "  </thead>\n",
       "  <tbody>\n",
       "    <tr>\n",
       "      <th>Miscellaneous_Expenses</th>\n",
       "      <td>1.000000</td>\n",
       "      <td>0.241955</td>\n",
       "      <td>-0.032154</td>\n",
       "      <td>0.200717</td>\n",
       "    </tr>\n",
       "    <tr>\n",
       "      <th>Food_Innovation_Spend</th>\n",
       "      <td>0.241955</td>\n",
       "      <td>1.000000</td>\n",
       "      <td>0.724248</td>\n",
       "      <td>0.972900</td>\n",
       "    </tr>\n",
       "    <tr>\n",
       "      <th>Advertising</th>\n",
       "      <td>-0.032154</td>\n",
       "      <td>0.724248</td>\n",
       "      <td>1.000000</td>\n",
       "      <td>0.747766</td>\n",
       "    </tr>\n",
       "    <tr>\n",
       "      <th>Profit</th>\n",
       "      <td>0.200717</td>\n",
       "      <td>0.972900</td>\n",
       "      <td>0.747766</td>\n",
       "      <td>1.000000</td>\n",
       "    </tr>\n",
       "  </tbody>\n",
       "</table>\n",
       "</div>"
      ],
      "text/plain": [
       "                        Miscellaneous_Expenses  Food_Innovation_Spend  \\\n",
       "Miscellaneous_Expenses                1.000000               0.241955   \n",
       "Food_Innovation_Spend                 0.241955               1.000000   \n",
       "Advertising                          -0.032154               0.724248   \n",
       "Profit                                0.200717               0.972900   \n",
       "\n",
       "                        Advertising    Profit  \n",
       "Miscellaneous_Expenses    -0.032154  0.200717  \n",
       "Food_Innovation_Spend      0.724248  0.972900  \n",
       "Advertising                1.000000  0.747766  \n",
       "Profit                     0.747766  1.000000  "
      ]
     },
     "execution_count": 8,
     "metadata": {},
     "output_type": "execute_result"
    }
   ],
   "source": [
    "corr = Data.corr()\n",
    "corr"
   ]
  },
  {
   "cell_type": "code",
   "execution_count": 9,
   "metadata": {},
   "outputs": [],
   "source": [
    "#converting categorical column into numerical values\n",
    "\n",
    "from sklearn.preprocessing import LabelEncoder,OneHotEncoder\n",
    "from sklearn.compose import ColumnTransformer"
   ]
  },
  {
   "cell_type": "code",
   "execution_count": 19,
   "metadata": {},
   "outputs": [],
   "source": [
    "le = LabelEncoder()\n",
    "X[:,3] = le.fit_transform(X[:,3])"
   ]
  },
  {
   "cell_type": "code",
   "execution_count": 20,
   "metadata": {},
   "outputs": [],
   "source": [
    "ct = ColumnTransformer(\n",
    "    [('one_hot_encoder',OneHotEncoder(categories = 'auto') , [3])],\n",
    "    remainder= 'passthrough'\n",
    ")"
   ]
  },
  {
   "cell_type": "code",
   "execution_count": 21,
   "metadata": {},
   "outputs": [],
   "source": [
    "X = ct.fit_transform(X)\n",
    "X = X[:,[0,1,3,4,5]]\n"
   ]
  },
  {
   "cell_type": "code",
   "execution_count": 22,
   "metadata": {},
   "outputs": [
    {
     "data": {
      "text/plain": [
       "array([[     1,      0, 138671, 167497, 475918],\n",
       "       [     0,      1, 153151, 164745, 448032],\n",
       "       [     0,      0, 102919, 155589, 412068],\n",
       "       [     1,      0, 120445, 146520, 387333],\n",
       "       [     0,      0,  93165, 144255, 370302],\n",
       "       [     1,      0, 101588, 134024, 366995],\n",
       "       [     0,      1, 148972, 136763, 131850],\n",
       "       [     0,      0, 147304, 132446, 328010],\n",
       "       [     1,      0, 150492, 122690, 315747],\n",
       "       [     0,      1, 110453, 125482, 309115],\n",
       "       [     0,      0, 112368, 104061, 233294],\n",
       "       [     0,      1,  93564, 102819, 253878],\n",
       "       [     0,      0, 129094,  96011, 253973],\n",
       "       [     0,      1, 137269,  94140, 256798],\n",
       "       [     0,      0, 158321, 122091, 260646],\n",
       "       [     1,      0, 124390, 116671, 265910],\n",
       "       [     0,      1, 123371,  80161, 268480],\n",
       "       [     1,      0, 146851,  96805, 286708],\n",
       "       [     0,      0, 115949,  93897, 299053],\n",
       "       [     1,      0, 155288,  88567,   4134],\n",
       "       [     0,      1, 115641,  78401, 302798],\n",
       "       [     1,      0, 155547,  80537, 303871],\n",
       "       [     0,      0, 124556,  76142, 307453],\n",
       "       [     0,      0, 107525,  69680, 308902],\n",
       "       [     1,      0, 101055,  79192, 144708],\n",
       "       [     0,      1, 141327,  66812, 142096],\n",
       "       [     0,      0, 145909,  77476, 138184],\n",
       "       [     1,      0, 129638,  74255, 357317],\n",
       "       [     0,      0, 184419,  68199, 122282],\n",
       "       [     1,      0, 154806,  67753, 111272],\n",
       "       [     0,      0, 117415,  64142,  95265],\n",
       "       [     1,      0, 154475,  63284,  92352],\n",
       "       [     0,      1, 130993,  65556,  50219],\n",
       "       [     0,      0, 104831,  57641, 218768],\n",
       "       [     0,      1, 159467,  48574, 214931],\n",
       "       [     1,      0,  86821,  48162, 209651],\n",
       "       [     0,      0, 128830,  30811, 205260],\n",
       "       [     0,      1,  53057,  46217, 201163],\n",
       "       [     1,      0,  67721,  22377, 189399],\n",
       "       [     0,      1,  84756,  40706, 179133],\n",
       "       [     0,      1, 120320,  30902, 176929],\n",
       "       [     0,      0,  86484,  30040, 168604],\n",
       "       [     0,      1,  97963,  25788, 152135],\n",
       "       [     1,      0, 129156,  17653,  39668],\n",
       "       [     0,      1, 156580,  24325,  32468],\n",
       "       [     1,      0, 125927,   3148,   6037],\n",
       "       [     0,      0, 117590,   3463, 301248],\n",
       "       [     0,      1, 137200,   2148,   4134],\n",
       "       [     1,      0,  53517,   2690,   4134],\n",
       "       [     0,      1, 118757,   2148,  49307]])"
      ]
     },
     "execution_count": 22,
     "metadata": {},
     "output_type": "execute_result"
    }
   ],
   "source": [
    "X.astype(int)"
   ]
  },
  {
   "cell_type": "code",
   "execution_count": 38,
   "metadata": {},
   "outputs": [],
   "source": [
    "#splitting the training and test data\n",
    "\n",
    "from sklearn.model_selection import train_test_split\n",
    "\n",
    "X_train,X_test,Y_train,Y_test = train_test_split(X,Y,test_size = 0.3 ,random_state = 0)"
   ]
  },
  {
   "cell_type": "code",
   "execution_count": 39,
   "metadata": {},
   "outputs": [],
   "source": [
    "model = LinearRegression()"
   ]
  },
  {
   "cell_type": "code",
   "execution_count": 40,
   "metadata": {},
   "outputs": [
    {
     "data": {
      "text/plain": [
       "LinearRegression(copy_X=True, fit_intercept=True, n_jobs=None,\n",
       "         normalize=False)"
      ]
     },
     "execution_count": 40,
     "metadata": {},
     "output_type": "execute_result"
    }
   ],
   "source": [
    "model.fit(X_train,Y_train)"
   ]
  },
  {
   "cell_type": "code",
   "execution_count": 41,
   "metadata": {},
   "outputs": [
    {
     "data": {
      "text/plain": [
       "51168.39042487726"
      ]
     },
     "execution_count": 41,
     "metadata": {},
     "output_type": "execute_result"
    }
   ],
   "source": [
    "constant = model.intercept_\n",
    "constant"
   ]
  },
  {
   "cell_type": "code",
   "execution_count": 42,
   "metadata": {},
   "outputs": [
    {
     "data": {
      "text/plain": [
       "array([-1.58229418e+02, -4.63028992e+02,  3.01968165e-02,  7.90840255e-01,\n",
       "        3.10148566e-02])"
      ]
     },
     "execution_count": 42,
     "metadata": {},
     "output_type": "execute_result"
    }
   ],
   "source": [
    "coeff = model.coef_\n",
    "coeff"
   ]
  },
  {
   "cell_type": "code",
   "execution_count": 44,
   "metadata": {},
   "outputs": [
    {
     "data": {
      "text/html": [
       "<div>\n",
       "<style scoped>\n",
       "    .dataframe tbody tr th:only-of-type {\n",
       "        vertical-align: middle;\n",
       "    }\n",
       "\n",
       "    .dataframe tbody tr th {\n",
       "        vertical-align: top;\n",
       "    }\n",
       "\n",
       "    .dataframe thead th {\n",
       "        text-align: right;\n",
       "    }\n",
       "</style>\n",
       "<table border=\"1\" class=\"dataframe\">\n",
       "  <thead>\n",
       "    <tr style=\"text-align: right;\">\n",
       "      <th></th>\n",
       "      <th>y_test</th>\n",
       "      <th>y_predict</th>\n",
       "    </tr>\n",
       "  </thead>\n",
       "  <tbody>\n",
       "    <tr>\n",
       "      <th>0</th>\n",
       "      <td>113464.38</td>\n",
       "      <td>114464.764722</td>\n",
       "    </tr>\n",
       "    <tr>\n",
       "      <th>1</th>\n",
       "      <td>154441.40</td>\n",
       "      <td>142718.884992</td>\n",
       "    </tr>\n",
       "    <tr>\n",
       "      <th>2</th>\n",
       "      <td>156303.95</td>\n",
       "      <td>144092.850078</td>\n",
       "    </tr>\n",
       "    <tr>\n",
       "      <th>3</th>\n",
       "      <td>87980.83</td>\n",
       "      <td>82766.774894</td>\n",
       "    </tr>\n",
       "    <tr>\n",
       "      <th>4</th>\n",
       "      <td>201232.39</td>\n",
       "      <td>190102.927619</td>\n",
       "    </tr>\n",
       "    <tr>\n",
       "      <th>5</th>\n",
       "      <td>115190.31</td>\n",
       "      <td>124731.310792</td>\n",
       "    </tr>\n",
       "    <tr>\n",
       "      <th>6</th>\n",
       "      <td>91411.06</td>\n",
       "      <td>76626.432613</td>\n",
       "    </tr>\n",
       "    <tr>\n",
       "      <th>7</th>\n",
       "      <td>107665.56</td>\n",
       "      <td>108586.968401</td>\n",
       "    </tr>\n",
       "    <tr>\n",
       "      <th>8</th>\n",
       "      <td>120534.25</td>\n",
       "      <td>124681.828086</td>\n",
       "    </tr>\n",
       "    <tr>\n",
       "      <th>9</th>\n",
       "      <td>176369.94</td>\n",
       "      <td>179549.506399</td>\n",
       "    </tr>\n",
       "    <tr>\n",
       "      <th>10</th>\n",
       "      <td>106960.92</td>\n",
       "      <td>106704.625400</td>\n",
       "    </tr>\n",
       "    <tr>\n",
       "      <th>11</th>\n",
       "      <td>106661.51</td>\n",
       "      <td>98222.671829</td>\n",
       "    </tr>\n",
       "    <tr>\n",
       "      <th>12</th>\n",
       "      <td>115915.54</td>\n",
       "      <td>121131.994055</td>\n",
       "    </tr>\n",
       "    <tr>\n",
       "      <th>13</th>\n",
       "      <td>106894.80</td>\n",
       "      <td>100601.189785</td>\n",
       "    </tr>\n",
       "    <tr>\n",
       "      <th>14</th>\n",
       "      <td>134448.90</td>\n",
       "      <td>138202.462501</td>\n",
       "    </tr>\n",
       "  </tbody>\n",
       "</table>\n",
       "</div>"
      ],
      "text/plain": [
       "       y_test      y_predict\n",
       "0   113464.38  114464.764722\n",
       "1   154441.40  142718.884992\n",
       "2   156303.95  144092.850078\n",
       "3    87980.83   82766.774894\n",
       "4   201232.39  190102.927619\n",
       "5   115190.31  124731.310792\n",
       "6    91411.06   76626.432613\n",
       "7   107665.56  108586.968401\n",
       "8   120534.25  124681.828086\n",
       "9   176369.94  179549.506399\n",
       "10  106960.92  106704.625400\n",
       "11  106661.51   98222.671829\n",
       "12  115915.54  121131.994055\n",
       "13  106894.80  100601.189785\n",
       "14  134448.90  138202.462501"
      ]
     },
     "execution_count": 44,
     "metadata": {},
     "output_type": "execute_result"
    }
   ],
   "source": [
    "#predicting from the model and testing the data\n",
    "\n",
    "y_predict = model.predict(X_test)\n",
    "df = pd.DataFrame(data = Y_test,columns = ['y_test'])\n",
    "df['y_predict'] = y_predict\n",
    "\n",
    "df"
   ]
  },
  {
   "cell_type": "code",
   "execution_count": 45,
   "metadata": {},
   "outputs": [
    {
     "data": {
      "text/plain": [
       "169864.99"
      ]
     },
     "execution_count": 45,
     "metadata": {},
     "output_type": "execute_result"
    }
   ],
   "source": [
    "#Predicting based on custom X_values\n",
    "\n",
    "obs = [0,1,16039,134320,401409]\n",
    "\n",
    "feature_array = np.array(obs)\n",
    "feature_array = feature_array.reshape(1,-1)\n",
    "y_pred_obs = model.predict(feature_array)\n",
    "\n",
    "round(float(y_pred_obs),2)"
   ]
  },
  {
   "cell_type": "code",
   "execution_count": 58,
   "metadata": {},
   "outputs": [
    {
     "name": "stdout",
     "output_type": "stream",
     "text": [
      "R square Error  0.9358680970046408\n"
     ]
    }
   ],
   "source": [
    "#For regression problem to get the accuracy of models you may use RMSE, MAE etc.for problems like classification you may use confusion matrix.\n",
    "\n",
    "#Evaulating the R squared error method \n",
    "\n",
    "from sklearn import metrics\n",
    "\n",
    "\n",
    "model_eval = metrics.r2_score(Y_test,y_predict)\n",
    "print('R square Error ',model_eval)"
   ]
  },
  {
   "cell_type": "code",
   "execution_count": 59,
   "metadata": {},
   "outputs": [
    {
     "name": "stdout",
     "output_type": "stream",
     "text": [
      "Adjusted_r_square  0.9285803807551681\n"
     ]
    }
   ],
   "source": [
    "#Adjusting R sqared error\n",
    "n= 50\n",
    "p=5\n",
    "Adjusted_r_square = 1-(1-model_eval)*(n-1)/(n-p-1)\n",
    "print('Adjusted_r_square ',Adjusted_r_square)"
   ]
  },
  {
   "cell_type": "code",
   "execution_count": null,
   "metadata": {},
   "outputs": [],
   "source": []
  },
  {
   "cell_type": "code",
   "execution_count": null,
   "metadata": {},
   "outputs": [],
   "source": []
  },
  {
   "cell_type": "code",
   "execution_count": null,
   "metadata": {},
   "outputs": [],
   "source": []
  }
 ],
 "metadata": {
  "kernelspec": {
   "display_name": "Python 3",
   "language": "python",
   "name": "python3"
  },
  "language_info": {
   "codemirror_mode": {
    "name": "ipython",
    "version": 3
   },
   "file_extension": ".py",
   "mimetype": "text/x-python",
   "name": "python",
   "nbconvert_exporter": "python",
   "pygments_lexer": "ipython3",
   "version": "3.7.3"
  }
 },
 "nbformat": 4,
 "nbformat_minor": 2
}
